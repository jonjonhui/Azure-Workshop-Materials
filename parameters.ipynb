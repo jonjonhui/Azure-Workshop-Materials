{
 "cells": [
  {
   "cell_type": "code",
   "execution_count": 10,
   "metadata": {},
   "outputs": [],
   "source": [
    "import os\n",
    "import openai\n",
    "from dotenv import load_dotenv\n",
    "load_dotenv()\n",
    "openai.api_type = \"azure\"\n",
    "openai.api_version = \"2022-12-01\"\n",
    "\n",
    "API_KEY = os.getenv(\"OPENAI_API_KEY\",\"\").strip() # replace this with your OpenAI API Key\n",
    "openai.api_key = API_KEY\n",
    "\n",
    "RESOURCE_ENDPOINT = os.getenv(\"OPENAI_API_BASE\",\"\").strip() # replace this with your OpenAI API Endpoint\n",
    "openai.api_base = RESOURCE_ENDPOINT"
   ]
  },
  {
   "attachments": {},
   "cell_type": "markdown",
   "metadata": {},
   "source": [
    "# temperature\n",
    "\n",
    "Defaults to 1\n",
    "\n",
    "What sampling temperature to use. Higher values means the model will take more risks. Try 0.9 for more creative applications, and 0 (argmax sampling) for ones with a well-defined answer.\n",
    "\n",
    "We generally recommend altering this or top_p but not both."
   ]
  },
  {
   "cell_type": "code",
   "execution_count": 19,
   "metadata": {},
   "outputs": [],
   "source": [
    "def call_openai(num_times, prompt, temperature):\n",
    "    for i in range(num_times):\n",
    "        \n",
    "        response = openai.Completion.create(\n",
    "            engine=\"text-davinci-003\",\n",
    "            prompt=prompt,\n",
    "            max_tokens=60,\n",
    "            temperature = temperature\n",
    "        )\n",
    "        print(response['choices'][0]['text'])"
   ]
  },
  {
   "cell_type": "code",
   "execution_count": 20,
   "metadata": {},
   "outputs": [
    {
     "name": "stdout",
     "output_type": "stream",
     "text": [
      "\n",
      "dog. Dogs are loyal, loving, and make great companions. They can be trained to do a variety of tasks and can provide a great source of comfort and companionship.\n",
      "\n",
      "dog. Dogs are loyal, loving, and make great companions. They can be trained to do a variety of tasks and can provide a great source of comfort and companionship.\n",
      "\n",
      "dog. Dogs are loyal, loving, and make great companions. They can be trained to do a variety of tasks and can provide a great source of comfort and companionship.\n",
      "\n",
      "dog. Dogs are loyal, loving, and make great companions. They can be trained to do a variety of tasks and can provide a great source of comfort and companionship.\n",
      "\n",
      "dog. Dogs are loyal, loving, and make great companions. They can be trained to do a variety of tasks and can provide a great source of comfort and companionship.\n",
      "\n",
      "dog. Dogs are loyal, loving, and make great companions. They can be trained to do a variety of tasks and can provide a great source of comfort and companionship.\n",
      "\n",
      "dog. Dogs are loyal, loving, and make great companions. They can be trained to do a variety of tasks and can provide a great source of comfort and companionship.\n",
      "\n",
      "dog. Dogs are loyal, loving, and make great companions. They can be trained to do a variety of tasks and can provide a great source of comfort and companionship.\n",
      "\n",
      "dog. Dogs are loyal, loving, and make great companions. They can be trained to do a variety of tasks and can provide a great source of comfort and companionship.\n",
      "\n",
      "dog. Dogs are loyal, loving, and make great companions. They can be trained to do a variety of tasks and can provide a great source of comfort and companionship.\n"
     ]
    }
   ],
   "source": [
    "call_openai(10, 'The best pet is a ', temperature = 0)"
   ]
  },
  {
   "cell_type": "code",
   "execution_count": 13,
   "metadata": {},
   "outputs": [
    {
     "name": "stdout",
     "output_type": "stream",
     "text": [
      "\n",
      "dog. Dogs are loyal, eager to please, and can form close bonds with their human companions. Dogs require regular exercise and can provide hours of entertainment and fun. They can also help reduce stress, provide companionship, and even bring a sense of security to a home.\n",
      "\n",
      "\n",
      "dog. Dogs provide companionship and unconditional love. They are loyal and can offer plenty of opportunities for exercise and play. Dogs can also be trained to help people in need, such as those with a disability or illness.\n",
      "\n",
      "dog. Dogs provide companionship, loyalty, and unconditional love. They can help reduce stress, lower blood pressure and even help people get more exercise. Additionally, they can provide protection for you and your home.\n",
      "\n",
      "\n",
      "Personal preference will dictate which pet is the best. Some people prefer cats, dogs, birds, reptiles, rodents, or even fish. A good rule of thumb when choosing a pet is to understand the pet's needs, temperament and activity level, and to be prepared to meet those needs with\n",
      "\n",
      "\n",
      "dog. Dogs are loving, loyal, and fun companions. They offer true unconditional love, teach responsibility, and provide years of unconditional companionship.\n",
      "\n",
      "dog. Dogs are incredibly loyal, loving, and intelligent. They can provide companionship, protection, exercise, and unconditional love. They also form strong emotional bonds with their humans, making them the perfect pet for almost anyone.\n",
      "\n",
      "dog. Dogs are loyal, loving, social, intelligent and can make excellent companions. They require daily physical and mental exercise and can be trained to get along with other pets and be good with children. Dogs are also relatively low-maintenance and can be left alone for reasonable lengths of time.\n",
      "\n",
      "dog. Dogs are loyal, loving, and sociable. They provide great companionship, respond to commands, and can be trained to do a variety of tricks. They are also perfect for active households as they need frequent exercise and require plenty of attention. They can even help other members of the\n",
      "\n",
      "dog. Dogs are loyal and affectionate companions who can provide unconditional love and companionship. They are intelligent, playful, and social creatures, and they can make wonderful additions to almost any family.\n",
      "\n",
      "dog. Dogs are incredibly loyal animals who love their owners unconditionally and give them lots of joy and companionship. They also make great security systems and can be trained to do many useful tasks. They are also relatively low maintenance, given that they need regular exercise and some basic grooming.\n"
     ]
    }
   ],
   "source": [
    "call_openai(10, 'The best pet is a ', temperature = 1)"
   ]
  },
  {
   "attachments": {},
   "cell_type": "markdown",
   "metadata": {},
   "source": [
    "# top_p\n",
    "\n",
    "Defaults to 1\n",
    "\n",
    "An alternative to sampling with temperature, called nucleus sampling, where the model considers the results of the tokens with top_p probability mass. So 0.1 means only the tokens comprising the top 10% probability mass are considered.\n",
    "\n",
    "We generally recommend altering this or temperature but not both."
   ]
  },
  {
   "cell_type": "code",
   "execution_count": 14,
   "metadata": {},
   "outputs": [],
   "source": [
    "def call_openai(num_times, prompt, top_p):\n",
    "    for i in range(num_times):\n",
    "        \n",
    "        response = openai.Completion.create(\n",
    "            engine=\"text-davinci-003\",\n",
    "            prompt=prompt,\n",
    "            max_tokens=60,\n",
    "            top_p = top_p\n",
    "        )\n",
    "        print(response['choices'][0]['text'])"
   ]
  },
  {
   "cell_type": "code",
   "execution_count": 15,
   "metadata": {},
   "outputs": [
    {
     "name": "stdout",
     "output_type": "stream",
     "text": [
      "\n",
      "dog.\n",
      "\n",
      "Dogs make great pets because they are loyal, affectionate, intelligent, and have an uncanny ability to bond with their owners. They also come in a variety of sizes, shapes, and personalities, so there is a perfect pup for every family!\n",
      "\n",
      "\n",
      "cat! Cats are very independent animals that provide lots of love, attention, and companionship while still giving you the freedom to come and go as you please. Plus, cats require minimal maintenance and can make great pets in any living situation.\n",
      "\n",
      "\n",
      "dog. Dogs are loyal and affectionate companions who can provide years of unconditional love and companionship. Not to mention, they're also great sidekicks to take on adventures or just hang around the house with.\n",
      "\n",
      "\n",
      "dog. Dogs are loyal, friendly, smart, and great companions. They are also incredibly adaptable and can fit in with nearly any lifestyle.\n",
      "\n",
      "\n",
      "dog. Dogs make wonderful companions and can bring a great deal of joy and comfort to a home. Plus, they're able to provide loyal companionship, active exercise and unconditional love.\n",
      "\n",
      "\n",
      "dog. Dogs can provide companionship, love, and loyalty, are easily trainable and make wonderful additions to a family.\n",
      "\n",
      "\n",
      "dog.\n",
      "\n",
      "\n",
      "dog. Dogs are loyal, loving companions and are very easy to train and care for. They come in all shapes and sizes, so there's a breed to fit any lifestyle and home. Plus, they are great at providing unconditional love and companionship.\n",
      "\n",
      "dog. Dogs are incredibly loyal and make great companions. They are also very intuitive and can be trained to understand and obey commands. Dogs require a lot of attention and exercise, and need regular grooming, but the rewards of companionship and unconditional love that they provide are worth it.\n",
      "\n",
      "\n",
      "dog.\n"
     ]
    }
   ],
   "source": [
    "call_openai(10, 'The best pet is a ', top_p = 1)"
   ]
  },
  {
   "cell_type": "code",
   "execution_count": 16,
   "metadata": {},
   "outputs": [
    {
     "name": "stdout",
     "output_type": "stream",
     "text": [
      "\n",
      "dog. Dogs are loyal, loving, and make great companions. They can be trained to do a variety of tasks and can provide a great source of comfort and companionship.\n",
      "\n",
      "dog. Dogs are loyal, loving, and make great companions. They can be trained to do a variety of tasks and can provide a great source of comfort and companionship.\n",
      "\n",
      "dog. Dogs are loyal, loving, and make great companions. They can be trained to do a variety of tasks and can provide a great source of comfort and companionship.\n",
      "\n",
      "dog. Dogs are loyal, loving, and make great companions. They can be trained to do a variety of tasks and can provide a great source of comfort and companionship.\n",
      "\n",
      "dog. Dogs are loyal, loving, and make great companions. They can be trained to do a variety of tasks and can provide a great source of comfort and companionship.\n",
      "\n",
      "dog. Dogs are loyal, loving, and make great companions. They can be trained to do a variety of tasks and can provide a great source of comfort and companionship.\n",
      "\n",
      "dog. Dogs are loyal, loving, and make great companions. They can be trained to do a variety of tasks and can provide a great source of comfort and companionship.\n",
      "\n",
      "dog. Dogs are loyal, loving, and make great companions. They can be trained to do a variety of tasks and can provide a great source of comfort and companionship.\n",
      "\n",
      "dog. Dogs are loyal, loving, and make great companions. They can be trained to do a variety of tasks and can provide a great source of comfort and companionship.\n",
      "\n",
      "dog. Dogs are loyal, loving, and make great companions. They can be trained to do a variety of tasks and can provide a great source of comfort and companionship.\n"
     ]
    }
   ],
   "source": [
    "call_openai(10, 'The best pet is a ', top_p = 0.1)"
   ]
  },
  {
   "attachments": {},
   "cell_type": "markdown",
   "metadata": {},
   "source": [
    "# n\n",
    "\n",
    "Defaults to 1\n",
    "\n",
    "How many completions to generate for each prompt.\n",
    "\n",
    "Note: Because this parameter generates many completions, it can quickly consume your token quota. Use carefully and ensure that you have reasonable settings for max_tokens and stop."
   ]
  },
  {
   "cell_type": "code",
   "execution_count": 17,
   "metadata": {},
   "outputs": [
    {
     "name": "stdout",
     "output_type": "stream",
     "text": [
      "\n",
      "dog. Dogs are loyal, loving, and intelligent animals that make wonderful companions. They also come in a variety of sizes, so you can find one that fits your lifestyle whether you live in an apartment or have a large house and yard. Plus, dogs are great at providing comfort and security,\n",
      "\n",
      "\n",
      "dog.\n"
     ]
    }
   ],
   "source": [
    "response = openai.Completion.create(\n",
    "            engine=\"text-davinci-003\",\n",
    "            prompt='The best pet is a ',\n",
    "            max_tokens=60,\n",
    "            n=2\n",
    "        )\n",
    "\n",
    "for c in response['choices']:\n",
    "    print(c['text'])"
   ]
  },
  {
   "attachments": {},
   "cell_type": "markdown",
   "metadata": {},
   "source": [
    "# logprobs\n",
    "\n",
    "Defaults to null\n",
    "\n",
    "Include the log probabilities on the logprobs most likely tokens, as well the chosen tokens. For example, if logprobs is 5, the API will return a list of the 5 most likely tokens. The API will always return the logprob of the sampled token, so there may be up to logprobs+1 elements in the response.\n",
    "\n",
    "The maximum value for logprobs is 5. If you need more than this, please contact us through our Help center and describe your use case."
   ]
  },
  {
   "cell_type": "code",
   "execution_count": 18,
   "metadata": {},
   "outputs": [
    {
     "name": "stdout",
     "output_type": "stream",
     "text": [
      "{\n",
      "  \"text_offset\": [\n",
      "    18,\n",
      "    19,\n",
      "    20,\n",
      "    23\n",
      "  ],\n",
      "  \"token_logprobs\": [\n",
      "    -0.008093257,\n",
      "    -1.032141,\n",
      "    -0.32333192,\n",
      "    -0.10512835\n",
      "  ],\n",
      "  \"tokens\": [\n",
      "    \"\\n\",\n",
      "    \"\\n\",\n",
      "    \"dog\",\n",
      "    \".\"\n",
      "  ],\n",
      "  \"top_logprobs\": [\n",
      "    {\n",
      "      \"\\n\": -0.008093257,\n",
      "      \" dog\": -5.640066\n",
      "    },\n",
      "    {\n",
      "      \"\\n\": -1.032141,\n",
      "      \"dog\": -0.47416696\n",
      "    },\n",
      "    {\n",
      "      \"cat\": -2.3014536,\n",
      "      \"dog\": -0.32333192\n",
      "    },\n",
      "    {\n",
      "      \"!\": -2.3408403,\n",
      "      \".\": -0.10512835\n",
      "    }\n",
      "  ]\n",
      "}\n",
      "\n",
      "\n",
      "dog.\n"
     ]
    }
   ],
   "source": [
    "response = openai.Completion.create(\n",
    "            engine=\"text-davinci-003\",\n",
    "            prompt='The best pet is a ',\n",
    "            max_tokens=60,\n",
    "            logprobs = 2,\n",
    "        )\n",
    "\n",
    "print(response['choices'][0]['logprobs'])\n",
    "print(response['choices'][0]['text'])"
   ]
  },
  {
   "attachments": {},
   "cell_type": "markdown",
   "metadata": {},
   "source": [
    "# presence_penalty\n",
    "\n",
    "Defaults to 0\n",
    "\n",
    "Number between -2.0 and 2.0. Positive values penalize new tokens based on whether they appear in the text so far, increasing the model's likelihood to talk about new topics.\n",
    "\n",
    "# frequency_penalty\n",
    "\n",
    "Defaults to 0\n",
    "\n",
    "Number between -2.0 and 2.0. Positive values penalize new tokens based on their existing frequency in the text so far, decreasing the model's likelihood to repeat the same line verbatim.\n",
    "\n",
    "# best_of\n",
    "\n",
    "Defaults to 1\n",
    "\n",
    "Generates best_of completions server-side and returns the \"best\" (the one with the highest log probability per token). Results cannot be streamed.\n",
    "\n",
    "When used with n, best_of controls the number of candidate completions and n specifies how many to return – best_of must be greater than n.\n",
    "\n",
    "Note: Because this parameter generates many completions, it can quickly consume your token quota. Use carefully and ensure that you have reasonable settings for max_tokens and stop.\n",
    "\n",
    "# logit_bias\n",
    "\n",
    "Defaults to null\n",
    "\n",
    "Modify the likelihood of specified tokens appearing in the completion.\n",
    "\n",
    "Accepts a json object that maps tokens (specified by their token ID in the GPT tokenizer) to an associated bias value from -100 to 100. You can use this tokenizer tool (which works for both GPT-2 and GPT-3) to convert text to token IDs. Mathematically, the bias is added to the logits generated by the model prior to sampling. The exact effect will vary per model, but values between -1 and 1 should decrease or increase likelihood of selection; values like -100 or 100 should result in a ban or exclusive selection of the relevant token.\n",
    "\n",
    "As an example, you can pass {\"50256\": -100} to prevent the <|endoftext|> token from being generated.\n",
    "\n",
    "Reference: OpenAI API Reference [https://platform.openai.com/docs/api-reference/completions]"
   ]
  }
 ],
 "metadata": {
  "kernelspec": {
   "display_name": "azureml_py310_sdkv2",
   "language": "python",
   "name": "python3"
  },
  "language_info": {
   "codemirror_mode": {
    "name": "ipython",
    "version": 3
   },
   "file_extension": ".py",
   "mimetype": "text/x-python",
   "name": "python",
   "nbconvert_exporter": "python",
   "pygments_lexer": "ipython3",
   "version": "3.9.16"
  },
  "orig_nbformat": 4,
  "vscode": {
   "interpreter": {
    "hash": "2139c70ac98f3202d028164a545621647e07f47fd6f5d8ac55cf952bf7c15ed1"
   }
  }
 },
 "nbformat": 4,
 "nbformat_minor": 2
}
